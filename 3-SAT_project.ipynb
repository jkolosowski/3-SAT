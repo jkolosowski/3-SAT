{
 "cells": [
  {
   "cell_type": "markdown",
   "metadata": {},
   "source": [
    "# 3-SAT\n",
    "\n",
    "$\\varphi$ = (¬$x_{1}$∨ $x_{2}$∨ $x_{4}$) ∧ (¬$x_{2}$∨ $x_{3}$ ∨ $x_{4}$) ∧ ($x_{1}$ ∨ ¬$x_{3}$ ∨ $x_{4}$) ∧ ($x_{1}$∨ ¬$x_{2}$ ∨ ¬$x_{4}$) ∧ ($x_{2}$∨ ¬$x_{3}$ ∨ ¬$x_{4}$) ∧ (¬$x_{1}$∨ $x_{3}$ ∨ ¬$x_{4}$) ∧ ($x_{1}$∨ $x_{2}$ ∨ $x_{3}$)"
   ]
  },
  {
   "cell_type": "code",
   "execution_count": 14,
   "metadata": {},
   "outputs": [],
   "source": [
    "import random\n",
    "import matplotlib.pyplot as plt\n",
    "import numpy as np\n",
    "from deap import base, creator, tools, algorithms"
   ]
  },
  {
   "cell_type": "code",
   "execution_count": 17,
   "metadata": {},
   "outputs": [],
   "source": [
    "creator.create(\"FitnessMax\", base.Fitness, weights=(1.0,))\n",
    "creator.create(\"Individual\", list, fitness=creator.FitnessMax)"
   ]
  },
  {
   "cell_type": "code",
   "execution_count": 21,
   "metadata": {},
   "outputs": [
    {
     "name": "stdout",
     "output_type": "stream",
     "text": [
      "[0, 1, 1, 0]\n"
     ]
    }
   ],
   "source": [
    "toolbox = base.Toolbox()\n",
    "toolbox.register(\"attr_bool\", random.randint, 0, 1)\n",
    "toolbox.register(\"individual\", tools.initRepeat, creator.Individual, toolbox.attr_bool, n=4)\n",
    "toolbox.register(\"population\", tools.initRepeat, list, toolbox.individual)\n",
    "\n",
    "print(toolbox.individual())"
   ]
  },
  {
   "cell_type": "markdown",
   "metadata": {},
   "source": [
    "### Inputy (formuły) wykorzystane do testowania programów:\n",
    "- 4 zmienne; 7 klauzul\n",
    "- 6 zmiennych; 10 klauzul\n",
    "- 8 zmiennych; 12 klauzul\n",
    "- 8 zmiennych; 100 klauzul\n",
    "- 10 zmiennych; 20 klauzul\n",
    "- 10 zmiennych; 40 klauzul\n",
    "- 10 zmiennych; 100 klauzul\n",
    "- 20 zmiennych; 100 klauzul\n",
    "\n",
    "###### Generowane z https://toughsat.appspot.com do plików dimacs, w postaci liczb.\n",
    "Poniższy kod wprowadza dane z pliku do tablicy w formie `formulaExampleInput`."
   ]
  },
  {
   "cell_type": "code",
   "execution_count": 22,
   "metadata": {},
   "outputs": [],
   "source": [
    "with open(\"./Formules/random_ksat_4-7_1.dimacs\") as f:\n",
    "    content = f.readlines()[2:]\n",
    "content = [x.strip() for x in content]\n",
    "content = [string[:-2] for string in content]\n",
    "formula = []\n",
    "for i in content:\n",
    "    formula.append(list(map(lambda x : int(x), i.split())))\n",
    "\n",
    "formulaExampleInput = [[-2, -1, -4],\n",
    "                       [-2, -4, 1],\n",
    "                       [-4, -3, -2],\n",
    "                       [1, 3, 2],\n",
    "                       [-2, 4, -1],\n",
    "                       [-4, -3, -2],\n",
    "                       [-1, 2, -4]]"
   ]
  },
  {
   "cell_type": "markdown",
   "metadata": {},
   "source": [
    "# Fitness"
   ]
  },
  {
   "cell_type": "code",
   "execution_count": 28,
   "metadata": {},
   "outputs": [],
   "source": [
    "def helper(*x):\n",
    "    chromosome = []\n",
    "    for clause in formula:\n",
    "        temp = []\n",
    "        for variable in clause:\n",
    "            for index, i in enumerate(x):\n",
    "                if abs(variable) == index + 1:\n",
    "                    temp.append(i if variable > 0 else not i)\n",
    "        chromosome.append(temp)\n",
    "    return sum([any(i) for i in chromosome])\n",
    "\n",
    "def fitness(individual):\n",
    "    s = helper(*individual)\n",
    "    return s,"
   ]
  },
  {
   "cell_type": "code",
   "execution_count": 29,
   "metadata": {},
   "outputs": [],
   "source": [
    "toolbox.register(\"evaluate\", fitness)\n",
    "toolbox.register(\"mate\", tools.cxTwoPoint)\n",
    "toolbox.register(\"mutate\", tools.mutFlipBit, indpb=0.10)\n",
    "toolbox.register(\"select\", tools.selBest) #best"
   ]
  },
  {
   "cell_type": "code",
   "execution_count": 30,
   "metadata": {},
   "outputs": [],
   "source": [
    "def main():\n",
    "    mu = 2\n",
    "    lambda_ = 13\n",
    "    cxpb = 0.6\n",
    "    mutpb = 0.01\n",
    "    ngen = 5\n",
    "    \n",
    "    pop = toolbox.population(n=15)\n",
    "    hof = tools.HallOfFame(1)\n",
    "    stats = tools.Statistics(lambda ind: ind.fitness.values)\n",
    "    stats.register(\"avg\", np.mean)\n",
    "    stats.register(\"min\", np.min)\n",
    "    stats.register(\"max\", np.max)\n",
    "    \n",
    "    pop, logbook = algorithms.eaMuPlusLambda(pop, toolbox, mu, lambda_, cxpb, mutpb, ngen, stats=stats, halloffame=hof, verbose=True)\n",
    "    \n",
    "    return pop, logbook, hof"
   ]
  },
  {
   "cell_type": "code",
   "execution_count": 37,
   "metadata": {},
   "outputs": [
    {
     "name": "stdout",
     "output_type": "stream",
     "text": [
      "gen\tnevals\tavg\tmin\tmax\n",
      "0  \t15    \t6  \t5  \t7  \n",
      "1  \t10    \t7  \t7  \t7  \n",
      "2  \t8     \t7  \t7  \t7  \n",
      "3  \t10    \t7  \t7  \t7  \n",
      "4  \t5     \t7  \t7  \t7  \n",
      "5  \t10    \t7  \t7  \t7  \n",
      "Best individual is: [1, 1, 0, 0]\n",
      "with fitness: 7\n"
     ]
    },
    {
     "data": {
      "image/png": "[encoded data removed]",
      "text/plain": [
       "<Figure size 432x288 with 1 Axes>"
      ]
     },
     "metadata": {
      "needs_background": "light"
     },
     "output_type": "display_data"
    }
   ],
   "source": [
    "#4 zmienne 7 klauzul\n",
    "if __name__ == \"__main__\":\n",
    "    pop, log, hof = main()\n",
    "    print(\"Best individual is: %s\\nwith fitness: %s\" % (hof[0], helper(*hof[0])))\n",
    "    \n",
    "    gen, avg, min_, max_ = log.select(\"gen\", \"avg\", \"min\", \"max\")\n",
    "    plt.plot(gen, avg, label=\"average\")\n",
    "    plt.plot(gen, min_, label=\"minimum\")\n",
    "    plt.plot(gen, max_, label=\"maximum\")\n",
    "    plt.xlabel(\"Generation\")\n",
    "    plt.ylabel(\"Fitness\")\n",
    "    plt.legend(loc=\"lower right\")\n",
    "    plt.show()"
   ]
  },
  {
   "cell_type": "code",
   "execution_count": null,
   "metadata": {},
   "outputs": [],
   "source": [
    "def main():\n",
    "    mu = 10\n",
    "    lambda_ = 190\n",
    "    cxpb = 0.6\n",
    "    mutpb = 0.01\n",
    "    ngen = 10\n",
    "    \n",
    "    pop = toolbox.population(n=200)\n",
    "    hof = tools.HallOfFame(1)\n",
    "    stats = tools.Statistics(lambda ind: ind.fitness.values)\n",
    "    stats.register(\"avg\", np.mean)\n",
    "    stats.register(\"min\", np.min)\n",
    "    stats.register(\"max\", np.max)\n",
    "    \n",
    "    pop, logbook = algorithms.eaMuPlusLambda(pop, toolbox, mu, lambda_, cxpb, mutpb, ngen, stats=stats, halloffame=hof, verbose=True)\n",
    "    \n",
    "    return pop, logbook, hof"
   ]
  },
  {
   "cell_type": "code",
   "execution_count": 19,
   "metadata": {},
   "outputs": [
    {
     "name": "stdout",
     "output_type": "stream",
     "text": [
      "gen\tnevals\tavg  \tmin\tmax\n",
      "0  \t100   \t34.69\t30 \t39 \n",
      "1  \t64    \t38.2 \t38 \t39 \n",
      "2  \t57    \t39.2 \t39 \t40 \n",
      "3  \t54    \t40   \t40 \t40 \n",
      "4  \t54    \t40   \t40 \t40 \n",
      "5  \t59    \t40   \t40 \t40 \n",
      "6  \t45    \t40   \t40 \t40 \n",
      "7  \t56    \t40   \t40 \t40 \n",
      "8  \t54    \t40   \t40 \t40 \n",
      "9  \t58    \t40   \t40 \t40 \n",
      "10 \t58    \t40   \t40 \t40 \n",
      "Best individual is: [0, 0, 0, 1, 0, 1, 1, 1, 1, 0]\n",
      "with fitness: 40\n"
     ]
    },
    {
     "data": {
      "image/png": "[encoded data removed]",
      "text/plain": [
       "<Figure size 432x288 with 1 Axes>"
      ]
     },
     "metadata": {
      "needs_background": "light"
     },
     "output_type": "display_data"
    }
   ],
   "source": [
    "#10 zmiennych 40 klauzul\n",
    "if __name__ == \"__main__\":\n",
    "    pop, log, hof = main()\n",
    "    print(\"Best individual is: %s\\nwith fitness: %s\" % (hof[0], helper(*hof[0])))\n",
    "    \n",
    "    gen, avg, min_, max_ = log.select(\"gen\", \"avg\", \"min\", \"max\")\n",
    "    plt.plot(gen, avg, label=\"average\")\n",
    "    plt.plot(gen, min_, label=\"minimum\")\n",
    "    plt.plot(gen, max_, label=\"maximum\")\n",
    "    plt.xlabel(\"Generation\")\n",
    "    plt.ylabel(\"Fitness\")\n",
    "    plt.legend(loc=\"lower right\")\n",
    "    plt.show()"
   ]
  },
  {
   "cell_type": "code",
   "execution_count": 67,
   "metadata": {},
   "outputs": [],
   "source": [
    "def main():\n",
    "    mu = 50\n",
    "    lambda_ = 950\n",
    "    cxpb = 0.6\n",
    "    mutpb = 0.001\n",
    "    ngen = 10\n",
    "    \n",
    "    pop = toolbox.population(n=1000)\n",
    "    hof = tools.HallOfFame(1)\n",
    "    stats = tools.Statistics(lambda ind: ind.fitness.values)\n",
    "    stats.register(\"avg\", np.mean)\n",
    "    stats.register(\"min\", np.min)\n",
    "    stats.register(\"max\", np.max)\n",
    "    \n",
    "    pop, logbook = algorithms.eaMuPlusLambda(pop, toolbox, mu, lambda_, cxpb, mutpb, ngen, stats=stats, halloffame=hof, verbose=True)\n",
    "    \n",
    "    return pop, logbook, hof"
   ]
  },
  {
   "cell_type": "code",
   "execution_count": 82,
   "metadata": {
    "scrolled": true
   },
   "outputs": [
    {
     "name": "stdout",
     "output_type": "stream",
     "text": [
      "gen\tnevals\tavg \tmin\tmax\n",
      "0  \t100   \t87.8\t77 \t95 \n",
      "1  \t61    \t94.5\t94 \t95 \n",
      "2  \t66    \t95.4\t95 \t97 \n",
      "3  \t55    \t96.7\t96 \t97 \n",
      "4  \t56    \t97  \t97 \t97 \n",
      "5  \t61    \t97  \t97 \t97 \n",
      "6  \t71    \t97  \t97 \t97 \n",
      "7  \t57    \t97  \t97 \t97 \n",
      "8  \t61    \t97.1\t97 \t98 \n",
      "9  \t65    \t98.1\t97 \t100\n",
      "10 \t77    \t100 \t100\t100\n",
      "Best individual is: [1, 0, 1, 0, 0, 0, 0, 1, 0, 1, 0, 1, 1, 0, 1, 0, 0, 1, 0, 0]\n",
      "with fitness: 100\n"
     ]
    },
    {
     "data": {
      "image/png": "[encoded data removed]",
      "text/plain": [
       "<Figure size 432x288 with 1 Axes>"
      ]
     },
     "metadata": {
      "needs_background": "light"
     },
     "output_type": "display_data"
    }
   ],
   "source": [
    "#20 zmiennych 100 klauzul\n",
    "if __name__ == \"__main__\":\n",
    "    pop, log, hof = main()\n",
    "    print(\"Best individual is: %s\\nwith fitness: %s\" % (hof[0], helper(*hof[0])))\n",
    "    \n",
    "    gen, avg, min_, max_ = log.select(\"gen\", \"avg\", \"min\", \"max\")\n",
    "    plt.plot(gen, avg, label=\"average\")\n",
    "    plt.plot(gen, min_, label=\"minimum\")\n",
    "    plt.plot(gen, max_, label=\"maximum\")\n",
    "    plt.xlabel(\"Generation\")\n",
    "    plt.ylabel(\"Fitness\")\n",
    "    plt.legend(loc=\"lower right\")\n",
    "    plt.show()"
   ]
  },
  {
   "cell_type": "markdown",
   "metadata": {},
   "source": [
    "# Bruteforce"
   ]
  },
  {
   "cell_type": "code",
   "execution_count": 41,
   "metadata": {},
   "outputs": [],
   "source": [
    "def bruteforce(formula):\n",
    "    formula_abs = np.abs(formula)\n",
    "    n = np.max(formula_abs)\n",
    "    indexes = formula_abs - 1\n",
    "    signs = np.sign(formula)\n",
    "    \n",
    "    base = np.full(n, 0)\n",
    "    for i in range(2**n):\n",
    "        perm = np.concatenate((base, [int(x) for x in bin(i)[2:]]))[-n:]\n",
    "#         print(\"Permutation:\", perm)\n",
    "        \n",
    "        result = np.empty((0,1), int)\n",
    "        for pos1, index in enumerate(indexes):\n",
    "            mapper = lambda x: perm[x[1]] if signs[pos1, x[0]] == 1 else perm[x[1]] ^ 1\n",
    "            result = np.vstack((result, np.fromiter(map(mapper, enumerate(index)), dtype=int).any()))\n",
    "        \n",
    "        if result.all():\n",
    "            return perm"
   ]
  },
  {
   "cell_type": "code",
   "execution_count": 37,
   "metadata": {},
   "outputs": [
    {
     "name": "stdout",
     "output_type": "stream",
     "text": [
      "Permutation: [0 0 0 0]\n",
      "[0 0 0 0]\n"
     ]
    }
   ],
   "source": [
    "#4 zmienne 7 klauzul            \n",
    "print(bruteforce(formula))"
   ]
  },
  {
   "cell_type": "code",
   "execution_count": 42,
   "metadata": {},
   "outputs": [
    {
     "name": "stdout",
     "output_type": "stream",
     "text": [
      "Permutation: [0 0 0 0 0 0 0 0 0 0]\n",
      "Permutation: [0 0 0 0 0 0 0 0 0 1]\n",
      "Permutation: [0 0 0 0 0 0 0 0 1 0]\n",
      "Permutation: [0 0 0 0 0 0 0 0 1 1]\n",
      "Permutation: [0 0 0 0 0 0 0 1 0 0]\n",
      "Permutation: [0 0 0 0 0 0 0 1 0 1]\n",
      "Permutation: [0 0 0 0 0 0 0 1 1 0]\n",
      "Permutation: [0 0 0 0 0 0 0 1 1 1]\n",
      "Permutation: [0 0 0 0 0 0 1 0 0 0]\n",
      "Permutation: [0 0 0 0 0 0 1 0 0 1]\n",
      "Permutation: [0 0 0 0 0 0 1 0 1 0]\n",
      "Permutation: [0 0 0 0 0 0 1 0 1 1]\n",
      "Permutation: [0 0 0 0 0 0 1 1 0 0]\n",
      "Permutation: [0 0 0 0 0 0 1 1 0 1]\n",
      "Permutation: [0 0 0 0 0 0 1 1 1 0]\n",
      "Permutation: [0 0 0 0 0 0 1 1 1 1]\n",
      "Permutation: [0 0 0 0 0 1 0 0 0 0]\n",
      "Permutation: [0 0 0 0 0 1 0 0 0 1]\n",
      "Permutation: [0 0 0 0 0 1 0 0 1 0]\n",
      "Permutation: [0 0 0 0 0 1 0 0 1 1]\n",
      "Permutation: [0 0 0 0 0 1 0 1 0 0]\n",
      "Permutation: [0 0 0 0 0 1 0 1 0 1]\n",
      "Permutation: [0 0 0 0 0 1 0 1 1 0]\n",
      "Permutation: [0 0 0 0 0 1 0 1 1 1]\n",
      "Permutation: [0 0 0 0 0 1 1 0 0 0]\n",
      "Permutation: [0 0 0 0 0 1 1 0 0 1]\n",
      "Permutation: [0 0 0 0 0 1 1 0 1 0]\n",
      "Permutation: [0 0 0 0 0 1 1 0 1 1]\n",
      "Permutation: [0 0 0 0 0 1 1 1 0 0]\n",
      "Permutation: [0 0 0 0 0 1 1 1 0 1]\n",
      "Permutation: [0 0 0 0 0 1 1 1 1 0]\n",
      "Permutation: [0 0 0 0 0 1 1 1 1 1]\n",
      "Permutation: [0 0 0 0 1 0 0 0 0 0]\n",
      "Permutation: [0 0 0 0 1 0 0 0 0 1]\n",
      "Permutation: [0 0 0 0 1 0 0 0 1 0]\n",
      "Permutation: [0 0 0 0 1 0 0 0 1 1]\n",
      "Permutation: [0 0 0 0 1 0 0 1 0 0]\n",
      "Permutation: [0 0 0 0 1 0 0 1 0 1]\n",
      "Permutation: [0 0 0 0 1 0 0 1 1 0]\n",
      "Permutation: [0 0 0 0 1 0 0 1 1 1]\n",
      "Permutation: [0 0 0 0 1 0 1 0 0 0]\n",
      "Permutation: [0 0 0 0 1 0 1 0 0 1]\n",
      "Permutation: [0 0 0 0 1 0 1 0 1 0]\n",
      "Permutation: [0 0 0 0 1 0 1 0 1 1]\n",
      "Permutation: [0 0 0 0 1 0 1 1 0 0]\n",
      "Permutation: [0 0 0 0 1 0 1 1 0 1]\n",
      "Permutation: [0 0 0 0 1 0 1 1 1 0]\n",
      "Permutation: [0 0 0 0 1 0 1 1 1 1]\n",
      "Permutation: [0 0 0 0 1 1 0 0 0 0]\n",
      "Permutation: [0 0 0 0 1 1 0 0 0 1]\n",
      "Permutation: [0 0 0 0 1 1 0 0 1 0]\n",
      "Permutation: [0 0 0 0 1 1 0 0 1 1]\n",
      "Permutation: [0 0 0 0 1 1 0 1 0 0]\n",
      "Permutation: [0 0 0 0 1 1 0 1 0 1]\n",
      "Permutation: [0 0 0 0 1 1 0 1 1 0]\n",
      "Permutation: [0 0 0 0 1 1 0 1 1 1]\n",
      "Permutation: [0 0 0 0 1 1 1 0 0 0]\n",
      "Permutation: [0 0 0 0 1 1 1 0 0 1]\n",
      "Permutation: [0 0 0 0 1 1 1 0 1 0]\n",
      "Permutation: [0 0 0 0 1 1 1 0 1 1]\n",
      "Permutation: [0 0 0 0 1 1 1 1 0 0]\n",
      "Permutation: [0 0 0 0 1 1 1 1 0 1]\n",
      "Permutation: [0 0 0 0 1 1 1 1 1 0]\n",
      "Permutation: [0 0 0 0 1 1 1 1 1 1]\n",
      "Permutation: [0 0 0 1 0 0 0 0 0 0]\n",
      "Permutation: [0 0 0 1 0 0 0 0 0 1]\n",
      "Permutation: [0 0 0 1 0 0 0 0 1 0]\n",
      "Permutation: [0 0 0 1 0 0 0 0 1 1]\n",
      "Permutation: [0 0 0 1 0 0 0 1 0 0]\n",
      "Permutation: [0 0 0 1 0 0 0 1 0 1]\n",
      "Permutation: [0 0 0 1 0 0 0 1 1 0]\n",
      "Permutation: [0 0 0 1 0 0 0 1 1 1]\n",
      "Permutation: [0 0 0 1 0 0 1 0 0 0]\n",
      "Permutation: [0 0 0 1 0 0 1 0 0 1]\n",
      "Permutation: [0 0 0 1 0 0 1 0 1 0]\n",
      "Permutation: [0 0 0 1 0 0 1 0 1 1]\n",
      "Permutation: [0 0 0 1 0 0 1 1 0 0]\n",
      "Permutation: [0 0 0 1 0 0 1 1 0 1]\n",
      "Permutation: [0 0 0 1 0 0 1 1 1 0]\n",
      "[0 0 0 1 0 0 1 1 1 0]\n"
     ]
    }
   ],
   "source": [
    "#10 zmiennych 40 klauzul      \n",
    "print(bruteforce(formula))"
   ]
  },
  {
   "cell_type": "markdown",
   "metadata": {},
   "source": [
    "## Porównanie efektywności algorytmu genetycznego z bruteforce'm\n",
    "\n",
    "| Algorytm | Input (4 zmienne 7 klauzul)  | Input (6 zmiennych 10 klauzul) | Input (8 zmiennych 12 klauzul) | Input (8 zmiennych 100 klauzul) | Input (10 zmiennych 20 klauzul) | Input (10 zmiennych 40 klauzul) | Input (10 zmiennych 100 klauzul) | Input (20 zmiennych 100 kaluzul)  |\n",
    "|---|-------------|-----------:|------:|------:|------:|------:|------:|------:|\n",
    "| Algorytm genetyczny (fitness) | 0,38 sek. <br>(mut=1%, elita, pop=15, selBest)</br> | 0,40 sek. <br>(mut=1%, elita, pop=25, selBest)</br> | 0,43 sek. <br> (mut=1%, elita, pop=50, selBest) </br> | 1,15 sek. <br>(mut=1%, elita, pop=100, selBest) </br><br><font color='red'>Nie znaleziono rozwiązania</font></br>  | 0,72 sek. <br>(mut=1%, elita, pop=100, selBest)</br> | 0,44 sek. <br> (mut=1%, elita, pop=200, selBest)<br> | 2,02 sek. <br>(mut=0,05%, elita, pop=500, selBest) </br><br><font color='red'>Nie znaleziono rozwiązania</font></br> |  3,95 sek. <br>(mut=0,01%, elita, pop=1000, selBest)  |\n",
    "| Algorytm bruteforce | 0,15 sek.   | 0,20 sek. | 0,23 sek. | 0,78 sek. <br><font color='red'>Nie znaleziono rozwiązania</font></br> | 0,41 sek. | 0,40 sek. | 1,87 sek. <br><font color='red'>Nie znaleziono rozwiązania</font></br>  | 12 min. 19,30 sek.   |"
   ]
  },
  {
   "cell_type": "code",
   "execution_count": 72,
   "metadata": {},
   "outputs": [
    {
     "data": {
      "image/png": "[encoded data removed]",
      "text/plain": [
       "<Figure size 1008x576 with 1 Axes>"
      ]
     },
     "metadata": {
      "needs_background": "light"
     },
     "output_type": "display_data"
    }
   ],
   "source": [
    "import matplotlib\n",
    "import matplotlib.pyplot as plt\n",
    "\n",
    "labels = ['4 zmienne | 7 klauzul', '6 zmiennych | 10 klauzul', '8 zmiennych | 12 klauzul', '10 zmiennych | 20 klauzul', \"10 zmiennych | 40 klauzul\", \"20 zmiennych | 100 klauzul\"]\n",
    "fitness = [0.38, 0.40, 0.43, 0.72, 0.44, 3.95]\n",
    "bruteforce = [0.15, 0.20, 0.23, 0.41, 0.41, 10]\n",
    "\n",
    "x = np.arange(len(labels)) \n",
    "width = 0.35\n",
    "\n",
    "fig, ax = plt.subplots(figsize=(14, 8))\n",
    "rects1 = ax.bar(x - width/2, fitness, width, label='Genetic algorithm')\n",
    "rects2 = ax.bar(x + width/2, bruteforce, width, label='Bruteforce')\n",
    "\n",
    "ax.set_ylabel('Time (sec.)')\n",
    "ax.set_title('Time took by genetic algorithm and bruteforce algorithm to find solution')\n",
    "ax.set_xticks(x)\n",
    "ax.set_xticklabels(labels)\n",
    "ax.legend()\n",
    "\n",
    "def autolabel(rects):\n",
    "    for rect in rects:\n",
    "        height = rect.get_height()\n",
    "        ax.annotate('{}'.format(height),\n",
    "                    xy=(rect.get_x() + rect.get_width() / 2, height),\n",
    "                    xytext=(0, 3),\n",
    "                    textcoords=\"offset points\",\n",
    "                    ha='center', va='bottom')\n",
    "        \n",
    "autolabel(rects1)\n",
    "autolabel(rects2)\n",
    "\n",
    "fig.tight_layout()\n",
    "plt.show()"
   ]
  }
 ],
 "metadata": {
  "kernelspec": {
   "display_name": "Python 3",
   "language": "python",
   "name": "python3"
  },
  "language_info": {
   "codemirror_mode": {
    "name": "ipython",
    "version": 3
   },
   "file_extension": ".py",
   "mimetype": "text/x-python",
   "name": "python",
   "nbconvert_exporter": "python",
   "pygments_lexer": "ipython3",
   "version": "3.8.5"
  }
 },
 "nbformat": 4,
 "nbformat_minor": 4
}
